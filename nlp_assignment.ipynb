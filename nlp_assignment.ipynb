{
  "nbformat": 4,
  "nbformat_minor": 0,
  "metadata": {
    "colab": {
      "provenance": []
    },
    "kernelspec": {
      "name": "python3",
      "display_name": "Python 3"
    },
    "language_info": {
      "name": "python"
    }
  },
  "cells": [
    {
      "cell_type": "code",
      "source": [
        "!pip install openai\n",
        "!pip install langchain"
      ],
      "metadata": {
        "id": "65dMXB_ljkXX"
      },
      "execution_count": null,
      "outputs": []
    },
    {
      "cell_type": "code",
      "execution_count": 4,
      "metadata": {
        "id": "0MpERSIQjets"
      },
      "outputs": [],
      "source": [
        "from langchain.llms import OpenAI\n",
        "from langchain.chains import LLMChain\n",
        "from langchain.prompts import PromptTemplate\n",
        "from langchain.chains import SimpleSequentialChain"
      ]
    },
    {
      "cell_type": "code",
      "source": [
        "%env OPENAI_API_KEY=<ADD API KEY>"
      ],
      "metadata": {
        "id": "TGD4TYeNjmlh"
      },
      "execution_count": null,
      "outputs": []
    },
    {
      "cell_type": "code",
      "source": [
        "llm = OpenAI(temperature=.7)"
      ],
      "metadata": {
        "id": "AmLguGNQjod-"
      },
      "execution_count": 11,
      "outputs": []
    },
    {
      "cell_type": "code",
      "source": [
        "template = \"\"\"You are a teacher preparing questions for a quiz. Given the following document, please generate 2 multiple-choice questions (MCQs) with 4 options and a corresponding answer letter based on the document.\n",
        "There should be more than one correct options\n",
        "\n",
        "Example question:\n",
        "\n",
        "Q: question here\n",
        "a. choice here\n",
        "b. choice here\n",
        "c. choice here\n",
        "d. choice here\n",
        "Correct Options: (a) or (b) or (c) or (d)\n",
        "\n",
        "These questions should be detailed and solely based on the information provided in the document.\n",
        "\n",
        "<Begin Document>\n",
        "{doc}\n",
        "<End Document>\"\"\""
      ],
      "metadata": {
        "id": "tRiFm40GjyZY"
      },
      "execution_count": 47,
      "outputs": []
    },
    {
      "cell_type": "code",
      "source": [
        "prompt = PromptTemplate(\n",
        "    input_variables=[\"doc\", \"qn_no\"],\n",
        "    template=template\n",
        ")\n",
        "llm_chain = LLMChain(prompt=prompt, llm=llm)"
      ],
      "metadata": {
        "id": "qUl05jDZkAd8"
      },
      "execution_count": 48,
      "outputs": []
    },
    {
      "cell_type": "code",
      "source": [
        "doc = \"\"\"From Trade to Territory\n",
        "The Company Establishes Power2\n",
        "Aurangzeb was the last of the powerful Mughal rulers. He\n",
        "established control over a very large part of the territory that is now known as India. After his death in 1707, many Mughal governors ( subadars) and big zamindars\n",
        "began asserting their authority and establishing regional kingdoms. As powerful regional kingdoms emerged in various parts of India, Delhi could no longer function as an effective centre.\n",
        "By the second half of the eighteenth century,\n",
        "however, a new power was emerging on the political horizon – the British. Did you know that the British originally came as a small trading company and were reluctant to acquire territories? How then did they come to be masters of a vast empire? In this chapter you will see how this came about.\n",
        "Fig. 1 – Bahadur Shah Zafar  and his sons being arrested by Captain Hodson\n",
        "After Aurangzeb there was no\n",
        "powerful Mughal ruler, but Mughal emperors continued to be symbolically important. In fact, when a massive rebellion against British rule broke out in 1857, Bahadur Shah Zafar, the Mughal emperor at the time, was seen as the natural leader. Once the revolt was put down by the company, Bahadur Shah Zafar was forced to leave the kingdom, and his sons were shot in  cold blood.\n",
        "chap 1-4.indd   9 4/22/2022   2:49:25 PMRationalised 2023-24\"\"\"\n",
        "\n",
        "qs = llm_chain.run({\"doc\": doc})"
      ],
      "metadata": {
        "id": "zLhzoCSvkJXN"
      },
      "execution_count": 51,
      "outputs": []
    },
    {
      "cell_type": "code",
      "source": [
        "print(qs)"
      ],
      "metadata": {
        "colab": {
          "base_uri": "https://localhost:8080/"
        },
        "id": "-fCsw3vSkOYy",
        "outputId": "9b064615-81ad-459e-bd4b-63a766ccfb91"
      },
      "execution_count": 52,
      "outputs": [
        {
          "output_type": "stream",
          "name": "stdout",
          "text": [
            "\n",
            "\n",
            "Q: What was the main reason for the British to emerge as a powerful force in India?\n",
            "a. To overthrow the Mughal emperors\n",
            "b. To establish a trading company\n",
            "c. To acquire territories\n",
            "d. To control regional kingdoms\n",
            "Correct Options: (b) or (c) \n",
            "\n",
            "Q: What happened to Bahadur Shah Zafar after the revolt against British rule was put down?\n",
            "a. He was forced to leave the kingdom\n",
            "b. He was shot in cold blood\n",
            "c. He was made the leader of the rebellion\n",
            "d. He was given more power\n",
            "Correct Options: (a) or (b)\n"
          ]
        }
      ]
    },
    {
      "cell_type": "code",
      "source": [],
      "metadata": {
        "id": "qn-pdn7qwc5X"
      },
      "execution_count": null,
      "outputs": []
    }
  ]
}